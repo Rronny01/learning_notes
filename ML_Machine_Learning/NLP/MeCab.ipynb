{
 "cells": [
  {
   "cell_type": "markdown",
   "metadata": {},
   "source": [
    "```bash\n",
    "yum search python3 | grep dev\n",
    "yum -y install install python34-devel.x86_64\n",
    "yum -y install gcc gcc-c++ kernel-devel libxslt-devel\n",
    "yum -y install g++\n",
    "\n",
    "sudo rpm -ivh http://packages.groonga.org/centos/groonga-release-1.1.0-1.noarch.rpm\n",
    "sudo yum makecache\n",
    "yum search mecab\n",
    "yum -y install mecab mecab-ipadic mecab-devel\n",
    "pip install mecab-python3\n",
    "\n",
    "```"
   ]
  }
 ],
 "metadata": {
  "kernelspec": {
   "display_name": "p36",
   "language": "python",
   "name": "p36"
  },
  "language_info": {
   "codemirror_mode": {
    "name": "ipython",
    "version": 3
   },
   "file_extension": ".py",
   "mimetype": "text/x-python",
   "name": "python",
   "nbconvert_exporter": "python",
   "pygments_lexer": "ipython3",
   "version": "3.6.0"
  }
 },
 "nbformat": 4,
 "nbformat_minor": 2
}
