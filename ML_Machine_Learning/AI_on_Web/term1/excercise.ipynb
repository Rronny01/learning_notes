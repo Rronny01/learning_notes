{
 "cells": [
  {
   "cell_type": "markdown",
   "metadata": {
    "colab_type": "text",
    "id": "TWV-2HVlzVDo"
   },
   "source": [
    "# 機械学習総復習 - 演習用"
   ]
  },
  {
   "cell_type": "markdown",
   "metadata": {
    "colab_type": "text",
    "id": "AtZ8RKUIzVDp"
   },
   "source": [
    "## 様々な手法による画像認識"
   ]
  },
  {
   "cell_type": "markdown",
   "metadata": {
    "colab_type": "text",
    "id": "wDYbPFbDzVDq"
   },
   "source": [
    "本演習では画像認識を題材として、様々な機械学習の手法を復習していきます。  \n",
    "画像認識の題材としては、お馴染みのMNISTデータを用いて、手書き文字の認識を行なっていきます。  \n",
    "はじめに、scikit-learnを用いた、古典的機械学習手法による画像認識手法を、そして次にKerasを用いたDNN・CNNを用いたモデル構築を行なっていきます。  \n",
    "また、これらのモデル間の予測精度の比較を行なっていきます。\n",
    "\n",
    "![IMNIST](https://drive.google.com/uc?export=view&id=1EbrnXK-A99d4_m_fyMO9UHP9rUeRJlTh) "
   ]
  },
  {
   "cell_type": "markdown",
   "metadata": {},
   "source": [
    "##  古典的機械学習による画像認識"
   ]
  },
  {
   "cell_type": "markdown",
   "metadata": {},
   "source": [
    "ここでは、古典的機械学習の手法として、ロジスティック回帰モデルを実装していきます。  \n",
    "はじめに、必要ライブラリのimportをしていきます。"
   ]
  },
  {
   "cell_type": "markdown",
   "metadata": {},
   "source": [
    "### 必要ライブラリのimport"
   ]
  },
  {
   "cell_type": "code",
   "execution_count": null,
   "metadata": {
    "colab": {
     "autoexec": {
      "startup": false,
      "wait_interval": 0
     }
    },
    "colab_type": "code",
    "id": "1Y9ebC-szVEb"
   },
   "outputs": [],
   "source": [
    "from matplotlib import pyplot as plt\n",
    "%matplotlib inline\n",
    "from matplotlib import cm\n",
    "from pandas import DataFrame\n",
    "from sklearn import linear_model\n",
    "from sklearn.datasets import load_digits\n",
    "from sklearn.cross_validation import train_test_split\n",
    "from sklearn.linear_model import LogisticRegression\n",
    "from sklearn.metrics import classification_report\n",
    "from sklearn.metrics import confusion_matrix\n",
    "from sklearn.neighbors import KNeighborsClassifier\n",
    "from keras.datasets import mnist"
   ]
  },
  {
   "cell_type": "markdown",
   "metadata": {
    "colab_type": "text",
    "id": "_vC1b19zzVEe"
   },
   "source": [
    "### 手書き文字データのロード"
   ]
  },
  {
   "cell_type": "code",
   "execution_count": null,
   "metadata": {},
   "outputs": [],
   "source": [
    "(X_train, y_train), (X_test, y_test) = mnist.load_data()"
   ]
  },
  {
   "cell_type": "markdown",
   "metadata": {
    "colab_type": "text",
    "id": "qBlrnr4ZzVEg"
   },
   "source": [
    "### 画像データの確認"
   ]
  },
  {
   "cell_type": "markdown",
   "metadata": {
    "colab_type": "text",
    "id": "ey2mdONHzVEh"
   },
   "source": [
    "ここで、今回用いるデータセットの具体的な画像について確認をしていきます。"
   ]
  },
  {
   "cell_type": "code",
   "execution_count": null,
   "metadata": {
    "colab": {
     "autoexec": {
      "startup": false,
      "wait_interval": 0
     }
    },
    "colab_type": "code",
    "id": "sL-DPXtNzVEh"
   },
   "outputs": [],
   "source": [
    "# 画像のindexを0~59999の中から任意の数字を選んでください\n",
    "# Write me\n",
    "idx_iamge = \n",
    "\n",
    "# X_trainから、idx_iamge番目の画像を取り出し、変数iamgeにセットしてください\n",
    "# Write me\n",
    "image = \n",
    "\n",
    "# y_trainから、idx_iamge番目のラベルを取り出し、変数labelにセットしてください\n",
    "# Write me\n",
    "label = \n",
    "\n",
    "# 画像を表示してください\n",
    "plt.imshow(image, cmap=plt.cm.gray_r, interpolation='nearest')\n",
    "print(\"label: \", label)"
   ]
  },
  {
   "cell_type": "markdown",
   "metadata": {
    "colab_type": "text",
    "id": "_qeBDBiuzVEi"
   },
   "source": [
    "データセットの中身は確認できたでしょうか？  \n",
    "idx_iamgeを様々な値に変更することで、データセットの中身をさらに確認してください。"
   ]
  },
  {
   "cell_type": "markdown",
   "metadata": {
    "colab_type": "text",
    "id": "6JhIursOzVEj"
   },
   "source": [
    "### 学習用データ・テスト用データの前処理"
   ]
  },
  {
   "cell_type": "markdown",
   "metadata": {},
   "source": [
    "ロジスティック回帰モデルの入力は、各データが1次元で表されていなければなりません。  \n",
    "`reshape`関数を用いて、データを適切な次元に加工してください。"
   ]
  },
  {
   "cell_type": "code",
   "execution_count": null,
   "metadata": {
    "colab": {
     "autoexec": {
      "startup": false,
      "wait_interval": 0
     }
    },
    "colab_type": "code",
    "id": "__UJhrmizVEk"
   },
   "outputs": [],
   "source": [
    "# Write Me\n",
    "X_train = \n",
    "X_test = "
   ]
  },
  {
   "cell_type": "code",
   "execution_count": null,
   "metadata": {},
   "outputs": [],
   "source": [
    "# X_train, y_train, X_test, y_testの次元数を確認して下さい\n",
    "# Write Me\n",
    "print(\"X_train:\", )\n",
    "print(\"y_train:\", )\n",
    "print(\"X_test:\", )\n",
    "print(\"y_test:\", )"
   ]
  },
  {
   "cell_type": "code",
   "execution_count": null,
   "metadata": {},
   "outputs": [],
   "source": [
    "# 今回は学習時間の都合上、データを一部、間引いて用います\n",
    "X_train = X_train[:12000]\n",
    "y_train = y_train[:12000]\n",
    "X_test = X_test[:2000]\n",
    "y_test = y_test[:2000]"
   ]
  },
  {
   "cell_type": "code",
   "execution_count": null,
   "metadata": {},
   "outputs": [],
   "source": [
    "# 画像データの正規化を行います。\n",
    "# 通常0~255の値をとる画素値を0~1の範囲に変換してください\n",
    "\n",
    "X_train = X_train.astype('float32')\n",
    "X_test = X_test.astype('float32')\n",
    "\n",
    "# Write Me\n",
    "X_train =\n",
    "X_test ="
   ]
  },
  {
   "cell_type": "markdown",
   "metadata": {
    "colab_type": "text",
    "id": "a1VF7sVGzVEm"
   },
   "source": [
    "### ロジスティック回帰モデルによる学習"
   ]
  },
  {
   "cell_type": "code",
   "execution_count": null,
   "metadata": {
    "colab": {
     "autoexec": {
      "startup": false,
      "wait_interval": 0
     }
    },
    "colab_type": "code",
    "id": "iRPik8ZUzVEm"
   },
   "outputs": [],
   "source": [
    "# ロジスティック回帰モデルを初期化して下さい\n",
    "# Write me\n",
    "clf = \n",
    "\n",
    "# 学習用データを用いて、ロジスティック回帰モデルを学習して下さい\n"
   ]
  },
  {
   "cell_type": "code",
   "execution_count": null,
   "metadata": {
    "colab": {
     "autoexec": {
      "startup": false,
      "wait_interval": 0
     }
    },
    "colab_type": "code",
    "id": "gqh62UJlzVEo"
   },
   "outputs": [],
   "source": [
    "# テストデータのラベルを予測してください\n",
    "# Write me\n",
    "y_pred = "
   ]
  },
  {
   "cell_type": "markdown",
   "metadata": {
    "colab_type": "text",
    "id": "aVeIzumizVEr"
   },
   "source": [
    "### 精度評価"
   ]
  },
  {
   "cell_type": "code",
   "execution_count": null,
   "metadata": {
    "colab": {
     "autoexec": {
      "startup": false,
      "wait_interval": 0
     }
    },
    "colab_type": "code",
    "id": "bQHrXThnzVEs"
   },
   "outputs": [],
   "source": [
    "# classification_reportによって、各種精度指標を確認して下さい\n",
    "# Write me\n"
   ]
  },
  {
   "cell_type": "code",
   "execution_count": null,
   "metadata": {
    "colab": {
     "autoexec": {
      "startup": false,
      "wait_interval": 0
     }
    },
    "colab_type": "code",
    "id": "sWY9V_EdzVEt"
   },
   "outputs": [],
   "source": [
    "# 混合行列を出力して下さい\n",
    "# また、混合行列を観察することで、分かることを述べて下さい\n",
    "\n",
    "# Write me\n"
   ]
  },
  {
   "cell_type": "markdown",
   "metadata": {},
   "source": [
    "## DNNを用いた画像認識"
   ]
  },
  {
   "cell_type": "markdown",
   "metadata": {},
   "source": [
    "次に、深層学習の手法として、DNNモデルを実装していきます。  \n",
    "はじめに、必要ライブラリのimportをしていきます。"
   ]
  },
  {
   "cell_type": "markdown",
   "metadata": {},
   "source": [
    "### 必要ライブラリのimport"
   ]
  },
  {
   "cell_type": "code",
   "execution_count": null,
   "metadata": {},
   "outputs": [],
   "source": [
    "import keras\n",
    "from keras.datasets import mnist\n",
    "from keras.models import Sequential\n",
    "from keras.layers import Dense, Dropout, Activation\n",
    "from keras.optimizers import SGD, Adam\n",
    "import matplotlib.pyplot as plt\n",
    "import seaborn as sns\n",
    "\n",
    "%matplotlib inline"
   ]
  },
  {
   "cell_type": "markdown",
   "metadata": {},
   "source": [
    "### データの整形"
   ]
  },
  {
   "cell_type": "code",
   "execution_count": null,
   "metadata": {},
   "outputs": [],
   "source": [
    "# ロジスティック回帰モデルによる学習と同様に、画像データのロードと、前処理を行います\n",
    "(X_train, y_train), (X_test, y_test) = mnist.load_data()\n",
    "\n",
    "X_train = X_train.reshape(60000, 28*28)\n",
    "X_test = X_test.reshape(10000, 28*28)\n",
    "\n",
    "X_train = X_train.astype('float32')\n",
    "X_test = X_test.astype('float32')\n",
    "X_train /= 255\n",
    "X_test /= 255\n",
    "\n",
    "X_train = X_train[:12000]\n",
    "y_train = y_train[:12000]\n",
    "X_test = X_test[:2000]\n",
    "y_test = y_test[:2000]"
   ]
  },
  {
   "cell_type": "markdown",
   "metadata": {},
   "source": [
    "クラス分類タスクでは、正解ラベルをOne-hot Label形式で表現します。\n",
    "kerasでは，`keras.utils.to_categorical`関数で変換できます。"
   ]
  },
  {
   "cell_type": "code",
   "execution_count": null,
   "metadata": {},
   "outputs": [],
   "source": [
    "# y_train, y_testをカテゴリカル変数へ変換して下さい\n",
    "# Write Me\n",
    "y_train = \n",
    "y_test = "
   ]
  },
  {
   "cell_type": "code",
   "execution_count": null,
   "metadata": {},
   "outputs": [],
   "source": [
    "# X_train, y_train, X_test, y_testの次元数を確認して下さい\n",
    "# Write Me\n",
    "print(\"X_train:\", )\n",
    "print(\"y_train:\", )\n",
    "print(\"X_test:\", )\n",
    "print(\"y_test:\", )"
   ]
  },
  {
   "cell_type": "markdown",
   "metadata": {},
   "source": [
    "### モデル構築"
   ]
  },
  {
   "cell_type": "markdown",
   "metadata": {},
   "source": [
    "- SequentialモデルでDNNを構築します．`model = Sequential()`でSequentialモデルを宣言します．\n",
    "- 一つのレイヤーは`Dense`レイヤーを追加することで実装できます．`Dense`では，ユニット数と活性化を指定できます．\n",
    "- 一番初めの層だけは`input_shape`引数が必要です．入力の次元を指定します．"
   ]
  },
  {
   "cell_type": "code",
   "execution_count": null,
   "metadata": {},
   "outputs": [],
   "source": [
    "# モデルの構築\n",
    "model = Sequential()\n",
    "\n",
    "# 自由にモデル構築をしてみましょう\n",
    "# Write Me\n"
   ]
  },
  {
   "cell_type": "markdown",
   "metadata": {},
   "source": [
    "- `model.summary()`関数で，構築したモデルの概要が確認できます．"
   ]
  },
  {
   "cell_type": "code",
   "execution_count": null,
   "metadata": {},
   "outputs": [],
   "source": [
    "model.summary()"
   ]
  },
  {
   "cell_type": "markdown",
   "metadata": {},
   "source": [
    "- 構築したモデルをコンパイルします。コンパイルには、損失関数，最適化手法と評価関数が設定できます。\n",
    "- 損失関数は次のものが使用できます: https://keras.io/ja/losses/\n",
    "- 最適化手法は次のものが使用できます: https://keras.io/ja/optimizers/\n",
    "- 評価関数は，未指定の場合はlossが採用されます。その他いくつか使用可能なものがありますが、一般にはaccuracyを用いると良いでしょう。"
   ]
  },
  {
   "cell_type": "code",
   "execution_count": null,
   "metadata": {},
   "outputs": [],
   "source": [
    "# loss関数にcategorical_crossentropyを、最適化アルゴリズムとしてSGDを、精度評価の指標として正答率を指定してモデルをコンパイルして下さい\n",
    "# Write Me \n",
    "model.compile(\n",
    ")"
   ]
  },
  {
   "cell_type": "code",
   "execution_count": null,
   "metadata": {},
   "outputs": [],
   "source": [
    "# バッチサイズ\n",
    "batch_size = 128\n",
    "\n",
    "# エポック数\n",
    "epochs =50"
   ]
  },
  {
   "cell_type": "markdown",
   "metadata": {},
   "source": [
    "さて、モデルの学習を実行します。  \n",
    "モデルの学習は、`model.fit（）`を実行することで、行うことができます。  \n",
    "ここでは、学習結果の途中記録を残すために、変数`hist`に学習経過を保存します。"
   ]
  },
  {
   "cell_type": "code",
   "execution_count": null,
   "metadata": {},
   "outputs": [],
   "source": [
    "# フィッティング(学習)\n",
    "# 学習を実行して下さい\n",
    "# Write Me \n",
    "hist = model.fit(\n",
    ")"
   ]
  },
  {
   "cell_type": "code",
   "execution_count": null,
   "metadata": {},
   "outputs": [],
   "source": [
    "# テストスコアの計算・表示\n",
    "# Write Me \n",
    "score = \n",
    "print('Test loss:', score[0])\n",
    "print('Test accuracy:', score[1])"
   ]
  },
  {
   "cell_type": "markdown",
   "metadata": {},
   "source": [
    "### モデルの評価"
   ]
  },
  {
   "cell_type": "markdown",
   "metadata": {},
   "source": [
    "さて、構築されたモデルの評価を行います。  \n",
    "はじめに、テストデータに対して、モデルの評価指標となるloss、accuracyを取得しましょう。\n",
    "モデルの評価は、`model.evaluate()`を実行することで行うことができます。"
   ]
  },
  {
   "cell_type": "code",
   "execution_count": null,
   "metadata": {},
   "outputs": [],
   "source": [
    "# テストスコアの計算・表示\n",
    "# Write Me \n",
    "\n",
    "score = \n",
    "print('test loss:', score[0])\n",
    "print('test acc:', score[1])"
   ]
  },
  {
   "cell_type": "code",
   "execution_count": null,
   "metadata": {},
   "outputs": [],
   "source": [
    "# エポック毎のAccuracyの可視化\n",
    "plt.plot(hist.history['acc'])\n",
    "plt.plot(hist.history['val_acc'])\n",
    "plt.ylabel('accuracy')\n",
    "plt.xlabel('epoch')\n",
    "plt.legend(['train_accuracy', 'valid_accuracy'], loc='best')\n",
    "plt.show()"
   ]
  },
  {
   "cell_type": "code",
   "execution_count": null,
   "metadata": {},
   "outputs": [],
   "source": [
    "# エポック毎のLossの可視化\n",
    "plt.plot(hist.history['loss'])\n",
    "plt.plot(hist.history['val_loss'])\n",
    "plt.ylabel('Loss')\n",
    "plt.xlabel('epoch')\n",
    "plt.legend(['train_loss', 'valid_loss'], loc='best')\n",
    "plt.show()"
   ]
  },
  {
   "cell_type": "markdown",
   "metadata": {},
   "source": [
    "## CNNを用いた画像認識"
   ]
  },
  {
   "cell_type": "markdown",
   "metadata": {},
   "source": [
    "最後に、CNNモデルを用いた画像認識を実装します。  \n",
    "はじめに、必要ライブラリのimportをしていきます。"
   ]
  },
  {
   "cell_type": "markdown",
   "metadata": {},
   "source": [
    "### 必要ライブラリのimport"
   ]
  },
  {
   "cell_type": "code",
   "execution_count": null,
   "metadata": {},
   "outputs": [],
   "source": [
    "import keras\n",
    "from keras.models import Sequential\n",
    "from keras.layers import Dense, Dropout, Activation\n",
    "from keras.optimizers import SGD, Adam\n",
    "from keras.layers import Conv2D, MaxPooling2D, Flatten\n",
    "import matplotlib.pyplot as plt\n",
    "import seaborn as sns\n",
    "\n",
    "%matplotlib inline"
   ]
  },
  {
   "cell_type": "markdown",
   "metadata": {},
   "source": [
    "### 学習用データ・テスト用データのロードと前処理"
   ]
  },
  {
   "cell_type": "code",
   "execution_count": null,
   "metadata": {},
   "outputs": [],
   "source": [
    "(X_train, y_train), (X_test, y_test) = mnist.load_data()"
   ]
  },
  {
   "cell_type": "markdown",
   "metadata": {},
   "source": [
    "ロードしたデータのshapeを確認し，学習に適した形式に変換します．\n",
    "Kerasの畳み込み層`Conv2D`へは，2次元データの入力ができません．そのため，白黒画像を扱う場合には，\n",
    "```\n",
    "[データ数, Width, Height, 1]\n",
    "```\n",
    "という3次元形式に変換します．"
   ]
  },
  {
   "cell_type": "code",
   "execution_count": null,
   "metadata": {},
   "outputs": [],
   "source": [
    "print(\"X_train:\", X_train.shape)\n",
    "print(\"y_train:\", y_train.shape)\n",
    "print(\"X_test:\", X_test.shape)\n",
    "print(\"y_test:\", y_test.shape)"
   ]
  },
  {
   "cell_type": "code",
   "execution_count": null,
   "metadata": {},
   "outputs": [],
   "source": [
    "# (データ数, 28, 28) の行列を (データ数, 28, 28, 1) の行列に変換してください \n",
    "\n",
    "X_train = \n",
    "X_test = "
   ]
  },
  {
   "cell_type": "code",
   "execution_count": null,
   "metadata": {},
   "outputs": [],
   "source": [
    "X_train = X_train.astype('float32')\n",
    "X_test = X_test.astype('float32')\n",
    "X_train /= 255\n",
    "X_test /= 255\n",
    "\n",
    "X_train = X_train[:12000]\n",
    "y_train = y_train[:12000]\n",
    "X_test = X_test[:2000]\n",
    "y_test = y_test[:2000]"
   ]
  },
  {
   "cell_type": "code",
   "execution_count": null,
   "metadata": {},
   "outputs": [],
   "source": [
    "print(\"X_train:\", X_train.shape)\n",
    "print(\"y_train:\", y_train.shape)\n",
    "print(\"X_test:\", X_test.shape)\n",
    "print(\"y_test:\", y_test.shape)"
   ]
  },
  {
   "cell_type": "markdown",
   "metadata": {},
   "source": [
    "クラス分類タスクでは、正解ラベルをOne-hot Label形式で表現します。\n",
    "kerasでは，`keras.utils.to_categorical`関数で変換できます。"
   ]
  },
  {
   "cell_type": "code",
   "execution_count": null,
   "metadata": {},
   "outputs": [],
   "source": [
    "# y_train, y_testをカテゴリカル変数へ変換して下さい\n",
    "# Write Me\n",
    "y_train =\n",
    "y_test = "
   ]
  },
  {
   "cell_type": "code",
   "execution_count": null,
   "metadata": {},
   "outputs": [],
   "source": [
    "# X_train, y_train, X_test, y_testの次元数を確認して下さい\n",
    "# Write Me\n",
    "print(\"X_train:\", )\n",
    "print(\"y_train:\", )\n",
    "print(\"X_test:\", )\n",
    "print(\"y_test:\", )"
   ]
  },
  {
   "cell_type": "markdown",
   "metadata": {},
   "source": [
    "### モデル構築"
   ]
  },
  {
   "cell_type": "markdown",
   "metadata": {},
   "source": [
    "- SequentialモデルでCNNを構築します。`model = Sequential()`でSequentialモデルを宣言します。\n",
    "- 一番初めの層だけは`input_shape`引数が必要です。入力の次元を指定します。\n",
    "\n",
    "- 畳み込み層は`Conv2D`レイヤーを追加することで実装できます。引数は、\n",
    "```\n",
    "Conv2D(ChannelNum, KernelSize)\n",
    "```\n",
    "となっています。\n",
    "\n",
    "- オプション引数の`padding`では、パディングのタイプを選択できます。Kerasでは、入力と同じサイズの出力を保持する`same`と、パディングを行わない`valid`があります。\n",
    "- 多くの場合、カーネルサイズは$3\\times3$ ~ $5\\times5$程度の，小さいサイズを指定します。\n",
    "- チャンネル数は、DNNのユニット数と同様に考えると良いでしょう。\n",
    "- そのほか，ストライドなどを指定することができます．詳細はリファレンスを参照してください: https://keras.io/ja/layers/convolutional/#conv2d\n",
    "\n",
    "- プーリング層は`MaxPooling2D`レイヤーを追加することで実装できます。必須引数はありません．オプション引数の`pool_size`でプーリングを行う範囲を指定します。\n",
    "- そのほか、ストライドなどを指定することができます．詳細はリファレンスを参照してください: https://keras.io/ja/layers/pooling/#maxpooling2d\n",
    "- 多くの場合、プーリングサイズは$2\\times2$程度の小さい範囲を指定します。\n",
    "\n",
    "- 畳み込み→プーリングの層を作り終えたら、全結合層を構築します．全結合層への入力は1次元にしなければならないので，`Flatten`レイヤーを挿入します。\n",
    "- 全結合層は、DNNと同じなので、`Dense`レイヤーを追加することで実装できます。"
   ]
  },
  {
   "cell_type": "code",
   "execution_count": null,
   "metadata": {},
   "outputs": [],
   "source": [
    "#モデル構築\n",
    "# Write Me\n",
    "\n",
    "model = Sequential()\n"
   ]
  },
  {
   "cell_type": "code",
   "execution_count": null,
   "metadata": {},
   "outputs": [],
   "source": [
    "model.summary()"
   ]
  },
  {
   "cell_type": "markdown",
   "metadata": {},
   "source": [
    "- 構築したモデルをコンパイルします。コンパイルには、損失関数，最適化手法と評価関数が設定できます。\n",
    "- 損失関数は次のものが使用できます: https://keras.io/ja/losses/\n",
    "- 最適化手法は次のものが使用できます: https://keras.io/ja/optimizers/\n",
    "- 評価関数は，未指定の場合はlossが採用されます。その他いくつか使用可能なものがありますが、一般にはaccuracyを用いると良いでしょう。"
   ]
  },
  {
   "cell_type": "code",
   "execution_count": null,
   "metadata": {},
   "outputs": [],
   "source": [
    "# loss関数にcategorical_crossentropyを、最適化アルゴリズムとしてAdamを、精度評価の指標として正答率を指定してモデルをコンパイルして下さい\n",
    "# Write Me \n",
    "\n",
    "model.compile(\n",
    ")"
   ]
  },
  {
   "cell_type": "code",
   "execution_count": null,
   "metadata": {},
   "outputs": [],
   "source": [
    "# バッチサイズ\n",
    "batch_size = 128\n",
    "\n",
    "# エポック数\n",
    "epochs = 5"
   ]
  },
  {
   "cell_type": "markdown",
   "metadata": {},
   "source": [
    "さて、モデルの学習を実行します。  \n",
    "モデルの学習は、`model.fit（）`を実行することで、行うことができます。  \n",
    "ここでは、学習結果の途中記録を残すために、変数`hist`に学習経過を保存します。"
   ]
  },
  {
   "cell_type": "code",
   "execution_count": null,
   "metadata": {},
   "outputs": [],
   "source": [
    "# フィッティング(学習)\n",
    "# 学習を実行して下さい\n",
    "# Write Me \n",
    "\n",
    "hist = model.fit(\n",
    ")"
   ]
  },
  {
   "cell_type": "markdown",
   "metadata": {},
   "source": [
    "### モデルの評価"
   ]
  },
  {
   "cell_type": "markdown",
   "metadata": {},
   "source": [
    "さて、構築されたモデルの評価を行います。  \n",
    "はじめに、テストデータに対して、モデルの評価指標となるloss、accuracyを取得しましょう。  \n",
    "モデルの評価は、`model.evaluate()`を実行することで行うことができます。"
   ]
  },
  {
   "cell_type": "code",
   "execution_count": null,
   "metadata": {},
   "outputs": [],
   "source": [
    "# テストスコアの計算・表示\n",
    "# Write Me \n",
    "\n",
    "score = \n",
    "print('test loss:', score[0])\n",
    "print('test acc:', score[1])"
   ]
  },
  {
   "cell_type": "code",
   "execution_count": null,
   "metadata": {},
   "outputs": [],
   "source": [
    "# エポック毎のAccuracyの可視化\n",
    "plt.plot(hist.history['acc'])\n",
    "plt.plot(hist.history['val_acc'])\n",
    "plt.ylabel('accuracy')\n",
    "plt.xlabel('epoch')\n",
    "plt.legend(['train_accuracy', 'valid_accuracy'], loc='best')\n",
    "plt.show()"
   ]
  },
  {
   "cell_type": "code",
   "execution_count": null,
   "metadata": {},
   "outputs": [],
   "source": [
    "# エポック毎のLossの可視化\n",
    "plt.plot(hist.history['loss'])\n",
    "plt.plot(hist.history['val_loss'])\n",
    "plt.ylabel('Loss')\n",
    "plt.xlabel('epoch')\n",
    "plt.legend(['train_loss', 'valid_loss'], loc='best')\n",
    "plt.show()"
   ]
  },
  {
   "cell_type": "markdown",
   "metadata": {},
   "source": [
    "## まとめ"
   ]
  },
  {
   "cell_type": "markdown",
   "metadata": {},
   "source": [
    "それぞれのモデルの予測精度はどのようでしたでしょうか？  \n",
    "予測精度に差異が生じた理由について、考察をしてください。"
   ]
  }
 ],
 "metadata": {
  "colab": {
   "collapsed_sections": [
    "v8VI5h1izVD7",
    "9fB72RFdzVED",
    "XpMT-H4-zVEJ",
    "1RsZbLnezVEb",
    "_vC1b19zzVEe",
    "qBlrnr4ZzVEg",
    "6JhIursOzVEj",
    "a1VF7sVGzVEm",
    "aVeIzumizVEr",
    "-leR2UY4zVEw",
    "xZeCL0QMzVE4"
   ],
   "default_view": {},
   "name": "excercise.ipynb",
   "provenance": [],
   "version": "0.3.2",
   "views": {}
  },
  "kernelspec": {
   "display_name": "Python 3",
   "language": "python",
   "name": "python3"
  },
  "language_info": {
   "codemirror_mode": {
    "name": "ipython",
    "version": 3
   },
   "file_extension": ".py",
   "mimetype": "text/x-python",
   "name": "python",
   "nbconvert_exporter": "python",
   "pygments_lexer": "ipython3",
   "version": "3.6.2"
  }
 },
 "nbformat": 4,
 "nbformat_minor": 1
}
