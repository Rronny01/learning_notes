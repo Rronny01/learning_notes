{
 "cells": [
  {
   "cell_type": "markdown",
   "metadata": {},
   "source": [
    "![](http://osloyi5le.bkt.clouddn.com/%E6%9C%BA%E5%99%A8%E5%AD%A6%E4%B9%A0%E5%B7%A5%E7%A8%8B%E5%B8%88banner.png)"
   ]
  },
  {
   "cell_type": "markdown",
   "metadata": {},
   "source": [
    "# 机器学习工程师微专业案例代码解压指南"
   ]
  },
  {
   "cell_type": "markdown",
   "metadata": {},
   "source": [
    "<p>本门课程的所有案例代码，均以压缩包的形式，上传至稀牛云实验平台。</p>\n",
    "文件解压缩方法方法如下："
   ]
  },
  {
   "cell_type": "markdown",
   "metadata": {},
   "source": [
    "### 解压工具——Terminal"
   ]
  },
  {
   "cell_type": "markdown",
   "metadata": {},
   "source": [
    "![](http://osloyi5le.bkt.clouddn.com/%E5%BE%AE%E4%B8%93%E4%B8%9A%E4%BB%A3%E7%A0%81%E8%AE%B2%E8%A7%A3-1.png)"
   ]
  },
  {
   "cell_type": "markdown",
   "metadata": {},
   "source": [
    "![](http://osloyi5le.bkt.clouddn.com/%E5%BE%AE%E4%B8%93%E4%B8%9A%E4%BB%A3%E7%A0%81%E8%AE%B2%E8%A7%A3-2.png)"
   ]
  },
  {
   "cell_type": "markdown",
   "metadata": {},
   "source": [
    "### 文件存放路径"
   ]
  },
  {
   "cell_type": "markdown",
   "metadata": {},
   "source": [
    "**依次**在Terminal中输入命令，并以回车键结束：\n",
    "<p> </p>\n",
    " <p><font color=#6495ED>**cd ..**</p>\n",
    " <p><font color=#878787 size=1 >注释：返回上一级菜单</font> </p>\n",
    " <p>**cd ds**</p>\n",
    " <p><font color=#878787 size=1 >注释：进入某个文件夹</font> </p>\n",
    " <p>**cd notebooks**</font></p>\n",
    " <p><font color=#878787 size=1 >注释：进入某个文件夹</font> </p>\n",
    " <p><font color=#878787 size=1 >注释：均为Linux命令</font> </p>\n",
    " 此时的路径即为课程资料存放路径"
   ]
  },
  {
   "cell_type": "markdown",
   "metadata": {},
   "source": [
    "查看该路径下所存放文件\n",
    "\n",
    "<p><font color=#6495ED>**ls**</p>"
   ]
  },
  {
   "cell_type": "markdown",
   "metadata": {},
   "source": [
    "![](http://osloyi5le.bkt.clouddn.com/%E5%BE%AE%E4%B8%93%E4%B8%9A%E4%BB%A3%E7%A0%81%E8%AE%B2%E8%A7%A3-3.png)"
   ]
  },
  {
   "cell_type": "markdown",
   "metadata": {},
   "source": [
    "### 解压缩"
   ]
  },
  {
   "cell_type": "markdown",
   "metadata": {},
   "source": [
    "<p>**Example: 解压缩第6章课程代码资料**</p>\n",
    "<p>在课程资料存放路径下输入命令，并以回车键结束：</p>\n",
    "<p><font color=#6495ED>unzip 06无监督算法.zip</font></p>\n",
    "<p><font color=red size=1 >建议：输入前若干个字符后，以tab键补全</font> </p>"
   ]
  },
  {
   "cell_type": "markdown",
   "metadata": {},
   "source": [
    "![](http://osloyi5le.bkt.clouddn.com/%E5%BE%AE%E4%B8%93%E4%B8%9A%E4%BB%A3%E7%A0%81%E8%AE%B2%E8%A7%A3-4.png)"
   ]
  },
  {
   "cell_type": "markdown",
   "metadata": {},
   "source": [
    "切回实验平台主界面，解压成功！开始学习吧～"
   ]
  },
  {
   "cell_type": "markdown",
   "metadata": {},
   "source": [
    "![](http://osloyi5le.bkt.clouddn.com/%E5%BE%AE%E4%B8%93%E4%B8%9A%E4%BB%A3%E7%A0%81%E8%AE%B2%E8%A7%A3-5.png)"
   ]
  }
 ],
 "metadata": {
  "kernelspec": {
   "display_name": "Python 3",
   "language": "python",
   "name": "python3"
  },
  "language_info": {
   "codemirror_mode": {
    "name": "ipython",
    "version": 3
   },
   "file_extension": ".py",
   "mimetype": "text/x-python",
   "name": "python",
   "nbconvert_exporter": "python",
   "pygments_lexer": "ipython3",
   "version": "3.5.2"
  }
 },
 "nbformat": 4,
 "nbformat_minor": 2
}
